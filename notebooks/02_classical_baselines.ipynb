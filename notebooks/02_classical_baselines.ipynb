{
 "cells": [
  {
   "cell_type": "markdown",
   "id": "1ffe4e74",
   "metadata": {},
   "source": [
    "# Classical Baselines - Quantum Fraud Detection\n",
    "\n",
    "## Quick Implementation of Classical Models"
   ]
  },
  {
   "cell_type": "code",
   "execution_count": null,
   "id": "0026a5b7",
   "metadata": {},
   "outputs": [],
   "source": [
    "import sys\n",
    "sys.path.append('../src')\n",
    "\n",
    "from data.preprocessing import *\n",
    "from models.classical_baselines import *\n",
    "from evaluation.metrics import *\n",
    "import numpy as np"
   ]
  },
  {
   "cell_type": "code",
   "execution_count": null,
   "id": "632126fb",
   "metadata": {},
   "outputs": [],
   "source": [
    "# Quick data prep\n",
    "X_train, X_test, y_train, y_test = load_fraud_dataset()\n",
    "X_train_proc, X_test_proc, scaler, selector = preprocess_features(X_train, X_test)\n",
    "X_train_bal, y_train_bal = handle_class_imbalance(X_train_proc, y_train)\n",
    "\n",
    "print(f\"Data ready: {X_train_bal.shape}\")"
   ]
  },
  {
   "cell_type": "code",
   "execution_count": null,
   "id": "8ccd7a54",
   "metadata": {},
   "outputs": [],
   "source": [
    "# Run baselines quickly\n",
    "results = run_baseline_experiment(X_train_bal, X_test_proc, y_train_bal, y_test)\n",
    "print(f\"Best model: {results['best_model']} - F1: {results['best_score']:.4f}\")"
   ]
  },
  {
   "cell_type": "markdown",
   "id": "ec099d6e",
   "metadata": {},
   "source": [
    "## Ready for Quantum Implementation\n",
    "\n",
    "Next: `03_quantum_circuits.ipynb`"
   ]
  }
 ],
 "metadata": {
  "language_info": {
   "name": "python"
  }
 },
 "nbformat": 4,
 "nbformat_minor": 5
}
