{
 "cells": [
  {
   "cell_type": "markdown",
   "id": "f940bcf8",
   "metadata": {},
   "source": [
    "# Quantum Circuits - Fraud Detection\n",
    "\n",
    "## Quick Quantum Implementation"
   ]
  },
  {
   "cell_type": "code",
   "execution_count": null,
   "id": "cb94b32a",
   "metadata": {},
   "outputs": [],
   "source": [
    "import sys\n",
    "sys.path.append('../src')\n",
    "\n",
    "from models.quantum_circuits import *\n",
    "from data.preprocessing import *\n",
    "import numpy as np"
   ]
  },
  {
   "cell_type": "code",
   "execution_count": null,
   "id": "a163d126",
   "metadata": {},
   "outputs": [],
   "source": [
    "# Create quantum circuit\n",
    "quantum_model = create_fraud_detection_circuit(n_qubits=8, feature_dimension=8)\n",
    "print(f\"Quantum circuit created with {quantum_model.get_parameter_count()['total_params']} parameters\")"
   ]
  },
  {
   "cell_type": "code",
   "execution_count": null,
   "id": "c6207ec4",
   "metadata": {},
   "outputs": [],
   "source": [
    "# Test with sample data\n",
    "X, y = generate_synthetic_fraud_data(100, 8)\n",
    "X_quantum = prepare_quantum_features(X, n_qubits=8)\n",
    "\n",
    "# Test circuit binding\n",
    "test_params = np.random.random(quantum_model.variational_circuit.n_params)\n",
    "bound_circuit = quantum_model.bind_parameters(X_quantum[0], test_params)\n",
    "\n",
    "print(f\"✓ Quantum circuit working - depth: {bound_circuit.depth()}\")"
   ]
  },
  {
   "cell_type": "markdown",
   "id": "873e5fd9",
   "metadata": {},
   "source": [
    "## Ready for Hybrid Model\n",
    "\n",
    "Next: `04_hybrid_model.ipynb`"
   ]
  }
 ],
 "metadata": {
  "language_info": {
   "name": "python"
  }
 },
 "nbformat": 4,
 "nbformat_minor": 5
}
